{
  "nbformat": 4,
  "nbformat_minor": 0,
  "metadata": {
    "colab": {
      "name": "Tensor Operations Practice",
      "provenance": [],
      "authorship_tag": "ABX9TyN8QVjDRzIkS8h1eyS/w5Uk",
      "include_colab_link": true
    },
    "kernelspec": {
      "name": "python3",
      "display_name": "Python 3"
    },
    "language_info": {
      "name": "python"
    }
  },
  "cells": [
    {
      "cell_type": "markdown",
      "metadata": {
        "id": "view-in-github",
        "colab_type": "text"
      },
      "source": [
        "<a href=\"https://colab.research.google.com/github/AbrahamKong/CMPE258-Tensor_Operations_Practice/blob/main/Tensor_Operations_Practice.ipynb\" target=\"_parent\"><img src=\"https://colab.research.google.com/assets/colab-badge.svg\" alt=\"Open In Colab\"/></a>"
      ]
    },
    {
      "cell_type": "code",
      "execution_count": 1,
      "metadata": {
        "id": "eWpq3IdLmdMg"
      },
      "outputs": [],
      "source": [
        "import tensorflow as tf\n",
        "import numpy as np"
      ]
    },
    {
      "cell_type": "markdown",
      "source": [
        "Tensors are multi-dimensional arrays with a uniform type (called a dtype). You can see all supported dtypes at **`tf.dtypes.DType`**.\n"
      ],
      "metadata": {
        "id": "5koQUbHYnD9C"
      }
    },
    {
      "cell_type": "markdown",
      "source": [
        "you can never update the contents of a tensor, only create a new one."
      ],
      "metadata": {
        "id": "NNRL9IukpRJj"
      }
    },
    {
      "cell_type": "markdown",
      "source": [
        "# Basic"
      ],
      "metadata": {
        "id": "_odnYdasspIQ"
      }
    },
    {
      "cell_type": "markdown",
      "source": [
        "### Scalar/Rank-0 Tensor\n",
        "\n",
        "A scalar contains a single value, and no \"axes\"."
      ],
      "metadata": {
        "id": "4NqfnnQypa-4"
      }
    },
    {
      "cell_type": "code",
      "source": [
        "tensor_rank_0 = tf.constant(4)\n",
        "print(tensor_rank_0)"
      ],
      "metadata": {
        "colab": {
          "base_uri": "https://localhost:8080/"
        },
        "id": "dm8jeZV5pSAm",
        "outputId": "dd77d9d4-a23d-43fd-c04e-32be3b66356d"
      },
      "execution_count": 2,
      "outputs": [
        {
          "output_type": "stream",
          "name": "stdout",
          "text": [
            "tf.Tensor(4, shape=(), dtype=int32)\n"
          ]
        }
      ]
    },
    {
      "cell_type": "markdown",
      "source": [
        "### Vector/Rank-1 Tensor\n",
        "\n",
        "A vector with 1 axis and work like a \"List\""
      ],
      "metadata": {
        "id": "8M0TIhHLrIH7"
      }
    },
    {
      "cell_type": "code",
      "source": [
        "tensor_rank_1 = tf.constant([2.0, 3.0, 4.0])\n",
        "print(tensor_rank_1)"
      ],
      "metadata": {
        "colab": {
          "base_uri": "https://localhost:8080/"
        },
        "id": "8KmDvUAqpaiK",
        "outputId": "66eb4bf8-b696-439d-aba0-071641d69b88"
      },
      "execution_count": 3,
      "outputs": [
        {
          "output_type": "stream",
          "name": "stdout",
          "text": [
            "tf.Tensor([2. 3. 4.], shape=(3,), dtype=float32)\n"
          ]
        }
      ]
    },
    {
      "cell_type": "markdown",
      "source": [
        "### Matrix/Rank-2 Tensor"
      ],
      "metadata": {
        "id": "ZX9eszKZrhwk"
      }
    },
    {
      "cell_type": "code",
      "source": [
        "tensor_rank_2 = tf.constant([[1, 2], \n",
        "                             [3, 4],\n",
        "                             [5, 6]], dtype=tf.float16)\n",
        "print(tensor_rank_2)"
      ],
      "metadata": {
        "colab": {
          "base_uri": "https://localhost:8080/"
        },
        "id": "7l_1d2-HrbmF",
        "outputId": "8a8b9ddd-2f1a-4996-b18c-1fd2cbbc9728"
      },
      "execution_count": 4,
      "outputs": [
        {
          "output_type": "stream",
          "name": "stdout",
          "text": [
            "tf.Tensor(\n",
            "[[1. 2.]\n",
            " [3. 4.]\n",
            " [5. 6.]], shape=(3, 2), dtype=float16)\n"
          ]
        }
      ]
    },
    {
      "cell_type": "markdown",
      "source": [
        "### Tensor with mroe Axes"
      ],
      "metadata": {
        "id": "9PDf1V-UskPP"
      }
    },
    {
      "cell_type": "code",
      "source": [
        "# There can be an arbitrary number of\n",
        "# axes (sometimes called \"dimensions\")\n",
        "tensor_rank_3 = tf.constant([\n",
        "  [[0, 1, 2, 3, 4],\n",
        "   [5, 6, 7, 8, 9]],\n",
        "  [[10, 11, 12, 13, 14],\n",
        "   [15, 16, 17, 18, 19]],\n",
        "  [[20, 21, 22, 23, 24],\n",
        "   [25, 26, 27, 28, 29]],])\n",
        "\n",
        "print(tensor_rank_3)"
      ],
      "metadata": {
        "colab": {
          "base_uri": "https://localhost:8080/"
        },
        "id": "PoBp2Esir7kn",
        "outputId": "b7c95576-7697-4f58-b389-5b77bf09b105"
      },
      "execution_count": 5,
      "outputs": [
        {
          "output_type": "stream",
          "name": "stdout",
          "text": [
            "tf.Tensor(\n",
            "[[[ 0  1  2  3  4]\n",
            "  [ 5  6  7  8  9]]\n",
            "\n",
            " [[10 11 12 13 14]\n",
            "  [15 16 17 18 19]]\n",
            "\n",
            " [[20 21 22 23 24]\n",
            "  [25 26 27 28 29]]], shape=(3, 2, 5), dtype=int32)\n"
          ]
        }
      ]
    },
    {
      "cell_type": "markdown",
      "source": [
        "### Visualizing Tensor\n",
        "\n",
        "You can convert a tensor to a NumPy array either using np.array or the tensor.numpy method:"
      ],
      "metadata": {
        "id": "fr4Bsc0dsyT0"
      }
    },
    {
      "cell_type": "code",
      "source": [
        "np.array(tensor_rank_2)"
      ],
      "metadata": {
        "colab": {
          "base_uri": "https://localhost:8080/"
        },
        "id": "Jvgs6kCFsr1I",
        "outputId": "4fcba156-688a-470b-f259-42c724cbfd44"
      },
      "execution_count": 6,
      "outputs": [
        {
          "output_type": "execute_result",
          "data": {
            "text/plain": [
              "array([[1., 2.],\n",
              "       [3., 4.],\n",
              "       [5., 6.]], dtype=float16)"
            ]
          },
          "metadata": {},
          "execution_count": 6
        }
      ]
    },
    {
      "cell_type": "code",
      "source": [
        "tensor_rank_2.numpy()"
      ],
      "metadata": {
        "id": "dVjAzVxgs5d8",
        "colab": {
          "base_uri": "https://localhost:8080/"
        },
        "outputId": "79e7e084-6529-4982-d897-51602a3fdccc"
      },
      "execution_count": 7,
      "outputs": [
        {
          "output_type": "execute_result",
          "data": {
            "text/plain": [
              "array([[1., 2.],\n",
              "       [3., 4.],\n",
              "       [5., 6.]], dtype=float16)"
            ]
          },
          "metadata": {},
          "execution_count": 7
        }
      ]
    },
    {
      "cell_type": "markdown",
      "source": [
        "### Basic Math on Tensor"
      ],
      "metadata": {
        "id": "q97erTmXmqUY"
      }
    },
    {
      "cell_type": "code",
      "source": [
        "a = tf.constant([[1, 2],\n",
        "                 [3, 4]])\n",
        "b = tf.constant([[1, 1],\n",
        "                 [1, 1]]) # Could have also said `tf.ones([2,2])`\n",
        "\n",
        "print(tf.add(a, b), \"\\n\")\n",
        "print(tf.multiply(a, b), \"\\n\")\n",
        "print(tf.matmul(a, b), \"\\n\")"
      ],
      "metadata": {
        "colab": {
          "base_uri": "https://localhost:8080/"
        },
        "id": "qEi8JL4Omh65",
        "outputId": "7d090ac1-4894-46c0-ef14-9e52ffebf3dd"
      },
      "execution_count": 8,
      "outputs": [
        {
          "output_type": "stream",
          "name": "stdout",
          "text": [
            "tf.Tensor(\n",
            "[[2 3]\n",
            " [4 5]], shape=(2, 2), dtype=int32) \n",
            "\n",
            "tf.Tensor(\n",
            "[[1 2]\n",
            " [3 4]], shape=(2, 2), dtype=int32) \n",
            "\n",
            "tf.Tensor(\n",
            "[[3 3]\n",
            " [7 7]], shape=(2, 2), dtype=int32) \n",
            "\n"
          ]
        }
      ]
    },
    {
      "cell_type": "code",
      "source": [
        "print(a + b, \"\\n\") # element-wise addition\n",
        "print(a * b, \"\\n\") # element-wise multiplication\n",
        "print(a @ b, \"\\n\") # matrix multiplication"
      ],
      "metadata": {
        "colab": {
          "base_uri": "https://localhost:8080/"
        },
        "id": "8MwopcUvsFr_",
        "outputId": "3a448e3d-e577-498d-fe1e-493122612e97"
      },
      "execution_count": 9,
      "outputs": [
        {
          "output_type": "stream",
          "name": "stdout",
          "text": [
            "tf.Tensor(\n",
            "[[2 3]\n",
            " [4 5]], shape=(2, 2), dtype=int32) \n",
            "\n",
            "tf.Tensor(\n",
            "[[1 2]\n",
            " [3 4]], shape=(2, 2), dtype=int32) \n",
            "\n",
            "tf.Tensor(\n",
            "[[3 3]\n",
            " [7 7]], shape=(2, 2), dtype=int32) \n",
            "\n"
          ]
        }
      ]
    },
    {
      "cell_type": "code",
      "source": [
        "c = tf.constant([[4.0, 5.0], [10.0, 1.0]])\n",
        "\n",
        "# Find the largest value\n",
        "print(tf.reduce_max(c))\n",
        "# Find the index of the largest value\n",
        "print(tf.argmax(c))\n",
        "# Compute the softmax\n",
        "print(tf.nn.softmax(c))"
      ],
      "metadata": {
        "colab": {
          "base_uri": "https://localhost:8080/"
        },
        "id": "Yy13HlJtsHLw",
        "outputId": "09b529e0-8eec-4362-b2d1-1a7a081c3909"
      },
      "execution_count": 10,
      "outputs": [
        {
          "output_type": "stream",
          "name": "stdout",
          "text": [
            "tf.Tensor(10.0, shape=(), dtype=float32)\n",
            "tf.Tensor([1 0], shape=(2,), dtype=int64)\n",
            "tf.Tensor(\n",
            "[[2.6894143e-01 7.3105860e-01]\n",
            " [9.9987662e-01 1.2339458e-04]], shape=(2, 2), dtype=float32)\n"
          ]
        }
      ]
    },
    {
      "cell_type": "markdown",
      "source": [
        "### Shapes\n",
        "\n",
        "Tensors have shapes.  Some vocabulary:\n",
        "\n",
        "* **Shape**: The length (number of elements) of each of the axes of a tensor.\n",
        "* **Rank**: Number of tensor axes.  A scalar has rank 0, a vector has rank 1, a matrix is rank 2.\n",
        "* **Axis** or **Dimension**: A particular dimension of a tensor.\n",
        "* **Size**: The total number of items in the tensor, the product shape vector.\n"
      ],
      "metadata": {
        "id": "hZrVkhJi1fy2"
      }
    },
    {
      "cell_type": "code",
      "source": [
        "tensor_rank_4 = tf.zeros([3, 2, 4, 5])"
      ],
      "metadata": {
        "id": "2CMGyreS1eA6"
      },
      "execution_count": 11,
      "outputs": []
    },
    {
      "cell_type": "code",
      "source": [
        "print(\"Type of every element:\", tensor_rank_4.dtype)\n",
        "print(\"Number of axes:\", tensor_rank_4.ndim)\n",
        "print(\"Shape of tensor:\", tensor_rank_4.shape)\n",
        "print(\"Elements along axis 0 of tensor:\", tensor_rank_4.shape[0])\n",
        "print(\"Elements along the last axis of tensor:\", tensor_rank_4.shape[-1])\n",
        "print(\"Total number of elements (3*2*4*5): \", tf.size(tensor_rank_4).numpy())"
      ],
      "metadata": {
        "colab": {
          "base_uri": "https://localhost:8080/"
        },
        "id": "7NQY16-O1zMQ",
        "outputId": "aac4d862-0663-476d-80e5-c3226a0b69e1"
      },
      "execution_count": 12,
      "outputs": [
        {
          "output_type": "stream",
          "name": "stdout",
          "text": [
            "Type of every element: <dtype: 'float32'>\n",
            "Number of axes: 4\n",
            "Shape of tensor: (3, 2, 4, 5)\n",
            "Elements along axis 0 of tensor: 3\n",
            "Elements along the last axis of tensor: 5\n",
            "Total number of elements (3*2*4*5):  120\n"
          ]
        }
      ]
    },
    {
      "cell_type": "code",
      "source": [
        "tensor=tf.constant([\n",
        "                    [[0, 1, 2, 3, 4], \n",
        "                     [5, 6, 7, 8, 9]], \n",
        "                    [[10, 11, 12, 13, 14], \n",
        "                     [15, 16, 17, 18, 19]], \n",
        "                    [[20, 21, 22, 23, 24], \n",
        "                     [25, 26, 27, 28, 29]],])"
      ],
      "metadata": {
        "id": "CbeLwE4P10uS"
      },
      "execution_count": 13,
      "outputs": []
    },
    {
      "cell_type": "code",
      "source": [
        "newtensor=tf.reshape(tensor, [3, -1])"
      ],
      "metadata": {
        "id": "ZiXyDDsT2qx4"
      },
      "execution_count": 15,
      "outputs": []
    },
    {
      "cell_type": "code",
      "source": [
        "newtensor.shape"
      ],
      "metadata": {
        "colab": {
          "base_uri": "https://localhost:8080/"
        },
        "id": "U3cSTEgS2zzd",
        "outputId": "c49aa75c-f9e0-4253-b62d-3ee128d7980d"
      },
      "execution_count": 16,
      "outputs": [
        {
          "output_type": "execute_result",
          "data": {
            "text/plain": [
              "TensorShape([3, 10])"
            ]
          },
          "metadata": {},
          "execution_count": 16
        }
      ]
    },
    {
      "cell_type": "markdown",
      "source": [
        "## Indexing"
      ],
      "metadata": {
        "id": "deuVA1wY3qbb"
      }
    },
    {
      "cell_type": "markdown",
      "source": [
        "### Single-axis indexing\n",
        "\n",
        "TensorFlow follows standard Python indexing rules.\n",
        "\n",
        "* indexes start at `0`\n",
        "* negative indices count backwards from the end\n",
        "* colons, `:`, are used for slices: `start:stop:step`\n"
      ],
      "metadata": {
        "id": "5uqCi7pJ3sWm"
      }
    },
    {
      "cell_type": "code",
      "source": [
        "tensor_rank_1 = tf.constant([0, 1, 1, 2, 3, 5, 8, 13, 21, 34])\n",
        "print(rank_1_tensor.numpy())"
      ],
      "metadata": {
        "colab": {
          "base_uri": "https://localhost:8080/"
        },
        "id": "pAzxfGEk32qX",
        "outputId": "3b53e18a-bc06-4252-db69-06c7d477a5ba"
      },
      "execution_count": 18,
      "outputs": [
        {
          "output_type": "stream",
          "name": "stdout",
          "text": [
            "[ 0  1  1  2  3  5  8 13 21 34]\n"
          ]
        }
      ]
    },
    {
      "cell_type": "markdown",
      "source": [
        "**Indexing** with a scalar removes the axis:"
      ],
      "metadata": {
        "id": "oeEVzlQk367N"
      }
    },
    {
      "cell_type": "code",
      "source": [
        "print(\"First:\", tensor_rank_1[0].numpy())\n",
        "print(\"Second:\", tensor_rank_1[1].numpy())\n",
        "print(\"Last:\", tensor_rank_1[-1].numpy())"
      ],
      "metadata": {
        "colab": {
          "base_uri": "https://localhost:8080/"
        },
        "id": "xRzGnUWj33uC",
        "outputId": "6285fee0-7004-4af2-eb7e-d176cdd53fef"
      },
      "execution_count": 19,
      "outputs": [
        {
          "output_type": "stream",
          "name": "stdout",
          "text": [
            "First: 0\n",
            "Second: 1\n",
            "Last: 34\n"
          ]
        }
      ]
    },
    {
      "cell_type": "markdown",
      "source": [
        "Indexing with a `:` slice keeps the axis:"
      ],
      "metadata": {
        "id": "nNBN4Ezb39SC"
      }
    },
    {
      "cell_type": "code",
      "source": [
        "print(\"Everything:\", tensor_rank_1[:].numpy())\n",
        "print(\"Before 4:\", tensor_rank_1[:4].numpy())\n",
        "print(\"From 4 to the end:\", tensor_rank_1[4:].numpy())\n",
        "print(\"From 2, before 7:\", tensor_rank_1[2:7].numpy())\n",
        "print(\"Every other item:\", tensor_rank_1[::2].numpy())\n",
        "print(\"Reversed:\", tensor_rank_1[::-1].numpy())"
      ],
      "metadata": {
        "id": "xpzTK6PA332V"
      },
      "execution_count": null,
      "outputs": []
    },
    {
      "cell_type": "markdown",
      "source": [
        "### Multi-axis indexing\n",
        "\n",
        "Higher rank tensors are indexed by passing multiple indices.\n",
        "\n",
        "The exact same rules as in the single-axis case apply to each axis independently."
      ],
      "metadata": {
        "id": "k0BeFXlX3_t5"
      }
    },
    {
      "cell_type": "code",
      "source": [
        "print(tensor_rank_2.numpy())"
      ],
      "metadata": {
        "id": "P9elbmhB335g"
      },
      "execution_count": null,
      "outputs": []
    },
    {
      "cell_type": "markdown",
      "source": [
        "Passing an integer for each index, the result is a scalar."
      ],
      "metadata": {
        "id": "AJ6HBHiM6hdC"
      }
    },
    {
      "cell_type": "code",
      "source": [
        "# Pull out a single value from a 2-rank tensor\n",
        "print(tensor_rank_2[1, 1].numpy())"
      ],
      "metadata": {
        "id": "iHi2Ko-V338Z"
      },
      "execution_count": null,
      "outputs": []
    },
    {
      "cell_type": "markdown",
      "source": [
        "You can index using any combination of integers and slices:"
      ],
      "metadata": {
        "id": "eMAy6r_m6uNW"
      }
    },
    {
      "cell_type": "code",
      "source": [
        "# Get row and column tensors\n",
        "print(\"Second row:\", tensor_rank_2[1, :].numpy())\n",
        "print(\"Second column:\", tensor_rank_2[:, 1].numpy())\n",
        "print(\"Last row:\", tensor_rank_2[-1, :].numpy())\n",
        "print(\"First item in last column:\", tensor_rank_2[0, -1].numpy())\n",
        "print(\"Skip the first row:\")\n",
        "print(tensor_rank_2[1:, :].numpy(), \"\\n\")"
      ],
      "metadata": {
        "id": "B6WRpCmF33_X"
      },
      "execution_count": null,
      "outputs": []
    },
    {
      "cell_type": "code",
      "source": [
        "print(tensor_rank_3[:, :, 4])"
      ],
      "metadata": {
        "id": "sIUbZPOr6ujt"
      },
      "execution_count": null,
      "outputs": []
    },
    {
      "cell_type": "markdown",
      "source": [
        "Read the [tensor slicing guide](https://tensorflow.org/guide/tensor_slicing) to learn how you can apply indexing to manipulate individual elements in your tensors."
      ],
      "metadata": {
        "id": "UhHIoS5F7T5k"
      }
    },
    {
      "cell_type": "markdown",
      "source": [
        "## Manipulating Shapes\n",
        "\n",
        "Reshaping a tensor is of great utility. \n"
      ],
      "metadata": {
        "id": "ZCPnxm-27Wpn"
      }
    },
    {
      "cell_type": "code",
      "source": [
        "# Shape returns a `TensorShape` object that shows the size along each axis\n",
        "x = tf.constant([[1], [2], [3]])\n",
        "print(x.shape)"
      ],
      "metadata": {
        "id": "0gOkKiEm7XBr"
      },
      "execution_count": null,
      "outputs": []
    },
    {
      "cell_type": "code",
      "source": [
        "# You can convert this object into a Python list, too\n",
        "print(x.shape.as_list())"
      ],
      "metadata": {
        "id": "fa1nZL4r34Ck"
      },
      "execution_count": null,
      "outputs": []
    },
    {
      "cell_type": "markdown",
      "source": [
        "You can reshape a tensor into a new shape. The `tf.reshape` operation is fast and cheap as the underlying data does not need to be duplicated."
      ],
      "metadata": {
        "id": "Talgh_qB7c4o"
      }
    },
    {
      "cell_type": "code",
      "source": [
        "# You can reshape a tensor to a new shape.\n",
        "# Note that you're passing in a list\n",
        "reshaped = tf.reshape(x, [1, 3])"
      ],
      "metadata": {
        "id": "0aAn4MJA9UeV"
      },
      "execution_count": null,
      "outputs": []
    },
    {
      "cell_type": "code",
      "source": [
        "print(x.shape)\n",
        "print(reshaped.shape)"
      ],
      "metadata": {
        "id": "cB_7G2Yl9V6F"
      },
      "execution_count": null,
      "outputs": []
    },
    {
      "cell_type": "code",
      "source": [
        "# s = tf.random.normal(shape=[11, 7, 5, 3])\n",
        "# t = tf.random.normal(shape=[11, 7, 3, 2])\n",
        "# e = tf.enisum('...ij, ...jk->...ik', s, t)\n",
        "\n",
        "# e.shape"
      ],
      "metadata": {
        "colab": {
          "base_uri": "https://localhost:8080/",
          "height": 200
        },
        "id": "ybnwjNYA23co",
        "outputId": "b885edaf-1ba5-47ad-a662-116991bfed93"
      },
      "execution_count": 17,
      "outputs": [
        {
          "output_type": "error",
          "ename": "AttributeError",
          "evalue": "ignored",
          "traceback": [
            "\u001b[0;31m---------------------------------------------------------------------------\u001b[0m",
            "\u001b[0;31mAttributeError\u001b[0m                            Traceback (most recent call last)",
            "\u001b[0;32m<ipython-input-17-09627a2912b0>\u001b[0m in \u001b[0;36m<module>\u001b[0;34m()\u001b[0m\n\u001b[1;32m      1\u001b[0m \u001b[0ms\u001b[0m \u001b[0;34m=\u001b[0m \u001b[0mtf\u001b[0m\u001b[0;34m.\u001b[0m\u001b[0mrandom\u001b[0m\u001b[0;34m.\u001b[0m\u001b[0mnormal\u001b[0m\u001b[0;34m(\u001b[0m\u001b[0mshape\u001b[0m\u001b[0;34m=\u001b[0m\u001b[0;34m[\u001b[0m\u001b[0;36m11\u001b[0m\u001b[0;34m,\u001b[0m \u001b[0;36m7\u001b[0m\u001b[0;34m,\u001b[0m \u001b[0;36m5\u001b[0m\u001b[0;34m,\u001b[0m \u001b[0;36m3\u001b[0m\u001b[0;34m]\u001b[0m\u001b[0;34m)\u001b[0m\u001b[0;34m\u001b[0m\u001b[0;34m\u001b[0m\u001b[0m\n\u001b[1;32m      2\u001b[0m \u001b[0mt\u001b[0m \u001b[0;34m=\u001b[0m \u001b[0mtf\u001b[0m\u001b[0;34m.\u001b[0m\u001b[0mrandom\u001b[0m\u001b[0;34m.\u001b[0m\u001b[0mnormal\u001b[0m\u001b[0;34m(\u001b[0m\u001b[0mshape\u001b[0m\u001b[0;34m=\u001b[0m\u001b[0;34m[\u001b[0m\u001b[0;36m11\u001b[0m\u001b[0;34m,\u001b[0m \u001b[0;36m7\u001b[0m\u001b[0;34m,\u001b[0m \u001b[0;36m3\u001b[0m\u001b[0;34m,\u001b[0m \u001b[0;36m2\u001b[0m\u001b[0;34m]\u001b[0m\u001b[0;34m)\u001b[0m\u001b[0;34m\u001b[0m\u001b[0;34m\u001b[0m\u001b[0m\n\u001b[0;32m----> 3\u001b[0;31m \u001b[0me\u001b[0m \u001b[0;34m=\u001b[0m \u001b[0mtf\u001b[0m\u001b[0;34m.\u001b[0m\u001b[0menisum\u001b[0m\u001b[0;34m(\u001b[0m\u001b[0;34m'...ij, ...jk->...ik'\u001b[0m\u001b[0;34m,\u001b[0m \u001b[0ms\u001b[0m\u001b[0;34m,\u001b[0m \u001b[0mt\u001b[0m\u001b[0;34m)\u001b[0m\u001b[0;34m\u001b[0m\u001b[0;34m\u001b[0m\u001b[0m\n\u001b[0m",
            "\u001b[0;31mAttributeError\u001b[0m: module 'tensorflow' has no attribute 'enisum'"
          ]
        }
      ]
    },
    {
      "cell_type": "code",
      "source": [
        ""
      ],
      "metadata": {
        "id": "knj3KmUm3MTJ"
      },
      "execution_count": null,
      "outputs": []
    },
    {
      "cell_type": "markdown",
      "source": [
        "# Reference\n",
        "\n",
        "[Introduction to Tensors](\n",
        "https://www.tensorflow.org/guide/tensor)\n",
        "\n",
        "[Tensor Colab](https://colab.sandbox.google.com/github/tensorflow/docs/blob/master/site/en/guide/tensor.ipynb)\n",
        "\n",
        "[Tensor Baiscs Colab](https://colab.sandbox.google.com/github/tensorflow/docs/blob/master/site/en/tutorials/customization/basics.ipynb)\n",
        "\n",
        "[Enisum Video](https://www.youtube.com/watch?v=pkVwUVEHmfI)\n",
        "\n",
        "[Pytorch Presentation](https://docs.google.com/presentation/d/13Oo5gXwcsoq9oMC4XriAyxkvgicatBxfI4cZzDhRyiE/edit#slide=id.p)\n",
        "\n",
        "[Pytorch Colab](https://github.com/deep-learning-with-pytorch/dlwpt-code/blob/master/p1ch3/1_tensors.ipynb (Links to an external site.))\n",
        "\n",
        "[TF-Coder User Journeys](https://github.com/google-research/tensorflow-coder/blob/master/UserJourneys.md)"
      ],
      "metadata": {
        "id": "yFcz6m_J9azr"
      }
    }
  ]
}