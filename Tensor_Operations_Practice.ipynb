{
  "nbformat": 4,
  "nbformat_minor": 0,
  "metadata": {
    "colab": {
      "name": "Tensor Operations Practice",
      "provenance": [],
      "authorship_tag": "ABX9TyMUO+XGGwNsYEu3DVFlVT1u",
      "include_colab_link": true
    },
    "kernelspec": {
      "name": "python3",
      "display_name": "Python 3"
    },
    "language_info": {
      "name": "python"
    }
  },
  "cells": [
    {
      "cell_type": "markdown",
      "metadata": {
        "id": "view-in-github",
        "colab_type": "text"
      },
      "source": [
        "<a href=\"https://colab.research.google.com/github/AbrahamKong/CMPE258-Tensor_Operations_Practice/blob/main/Tensor_Operations_Practice.ipynb\" target=\"_parent\"><img src=\"https://colab.research.google.com/assets/colab-badge.svg\" alt=\"Open In Colab\"/></a>"
      ]
    },
    {
      "cell_type": "code",
      "execution_count": null,
      "metadata": {
        "id": "eWpq3IdLmdMg"
      },
      "outputs": [],
      "source": [
        "import tensorflow as tf\n",
        "import numpy as np"
      ]
    },
    {
      "cell_type": "markdown",
      "source": [
        "Tensors are multi-dimensional arrays with a uniform type (called a dtype). You can see all supported dtypes at **`tf.dtypes.DType`**.\n"
      ],
      "metadata": {
        "id": "5koQUbHYnD9C"
      }
    },
    {
      "cell_type": "markdown",
      "source": [
        "you can never update the contents of a tensor, only create a new one."
      ],
      "metadata": {
        "id": "NNRL9IukpRJj"
      }
    },
    {
      "cell_type": "markdown",
      "source": [
        "# Basic"
      ],
      "metadata": {
        "id": "_odnYdasspIQ"
      }
    },
    {
      "cell_type": "markdown",
      "source": [
        "### Scalar/Rank-0 Tensor\n",
        "\n",
        "A scalar contains a single value, and no \"axes\"."
      ],
      "metadata": {
        "id": "4NqfnnQypa-4"
      }
    },
    {
      "cell_type": "code",
      "source": [
        "tensor_rank_0 = tf.constant(4)\n",
        "print(tensor_rank_0)"
      ],
      "metadata": {
        "colab": {
          "base_uri": "https://localhost:8080/"
        },
        "id": "dm8jeZV5pSAm",
        "outputId": "ef8579f4-de6e-436a-b5ab-2581a5028f7a"
      },
      "execution_count": null,
      "outputs": [
        {
          "output_type": "stream",
          "name": "stdout",
          "text": [
            "tf.Tensor(4, shape=(), dtype=int32)\n"
          ]
        }
      ]
    },
    {
      "cell_type": "markdown",
      "source": [
        "### Vector/Rank-1 Tensor\n",
        "\n",
        "A vector with 1 axis and work like a \"List\""
      ],
      "metadata": {
        "id": "8M0TIhHLrIH7"
      }
    },
    {
      "cell_type": "code",
      "source": [
        "tensor_rank_1 = tf.constant([2.0, 3.0, 4.0])\n",
        "print(tensor_rank_1)"
      ],
      "metadata": {
        "colab": {
          "base_uri": "https://localhost:8080/"
        },
        "id": "8KmDvUAqpaiK",
        "outputId": "287ac0d0-2aa9-4eb0-bb05-9d86155fe64f"
      },
      "execution_count": null,
      "outputs": [
        {
          "output_type": "stream",
          "name": "stdout",
          "text": [
            "tf.Tensor([2. 3. 4.], shape=(3,), dtype=float32)\n"
          ]
        }
      ]
    },
    {
      "cell_type": "markdown",
      "source": [
        "### Matrix/Rank-2 Tensor"
      ],
      "metadata": {
        "id": "ZX9eszKZrhwk"
      }
    },
    {
      "cell_type": "code",
      "source": [
        "tensor_rank_2 = tf.constant([[1, 2], \n",
        "                             [3, 4],\n",
        "                             [5, 6]], dtype=tf.float16)\n",
        "print(tensor_rank_2)"
      ],
      "metadata": {
        "colab": {
          "base_uri": "https://localhost:8080/"
        },
        "id": "7l_1d2-HrbmF",
        "outputId": "19cc2fab-7206-49b5-eb55-f40e4c2c7562"
      },
      "execution_count": null,
      "outputs": [
        {
          "output_type": "stream",
          "name": "stdout",
          "text": [
            "tf.Tensor(\n",
            "[[1. 2.]\n",
            " [3. 4.]\n",
            " [5. 6.]], shape=(3, 2), dtype=float16)\n"
          ]
        }
      ]
    },
    {
      "cell_type": "markdown",
      "source": [
        "### Tensor with mroe Axes"
      ],
      "metadata": {
        "id": "9PDf1V-UskPP"
      }
    },
    {
      "cell_type": "code",
      "source": [
        "# There can be an arbitrary number of\n",
        "# axes (sometimes called \"dimensions\")\n",
        "rank_3_tensor = tf.constant([\n",
        "  [[0, 1, 2, 3, 4],\n",
        "   [5, 6, 7, 8, 9]],\n",
        "  [[10, 11, 12, 13, 14],\n",
        "   [15, 16, 17, 18, 19]],\n",
        "  [[20, 21, 22, 23, 24],\n",
        "   [25, 26, 27, 28, 29]],])\n",
        "\n",
        "print(rank_3_tensor)"
      ],
      "metadata": {
        "colab": {
          "base_uri": "https://localhost:8080/"
        },
        "id": "PoBp2Esir7kn",
        "outputId": "101ada93-ec76-48d5-b160-9ca144df3458"
      },
      "execution_count": null,
      "outputs": [
        {
          "output_type": "stream",
          "name": "stdout",
          "text": [
            "tf.Tensor(\n",
            "[[[ 0  1  2  3  4]\n",
            "  [ 5  6  7  8  9]]\n",
            "\n",
            " [[10 11 12 13 14]\n",
            "  [15 16 17 18 19]]\n",
            "\n",
            " [[20 21 22 23 24]\n",
            "  [25 26 27 28 29]]], shape=(3, 2, 5), dtype=int32)\n"
          ]
        }
      ]
    },
    {
      "cell_type": "markdown",
      "source": [
        "### Visualizing Tensor\n",
        "\n",
        "You can convert a tensor to a NumPy array either using np.array or the tensor.numpy method:"
      ],
      "metadata": {
        "id": "fr4Bsc0dsyT0"
      }
    },
    {
      "cell_type": "code",
      "source": [
        "np.array(tensor_rank_2)"
      ],
      "metadata": {
        "colab": {
          "base_uri": "https://localhost:8080/"
        },
        "id": "Jvgs6kCFsr1I",
        "outputId": "54979323-1cdb-4bc9-d29f-ab17250e6935"
      },
      "execution_count": null,
      "outputs": [
        {
          "output_type": "execute_result",
          "data": {
            "text/plain": [
              "array([[1., 2.],\n",
              "       [3., 4.],\n",
              "       [5., 6.]], dtype=float16)"
            ]
          },
          "metadata": {},
          "execution_count": 8
        }
      ]
    },
    {
      "cell_type": "code",
      "source": [
        ""
      ],
      "metadata": {
        "id": "dVjAzVxgs5d8"
      },
      "execution_count": null,
      "outputs": []
    }
  ]
}